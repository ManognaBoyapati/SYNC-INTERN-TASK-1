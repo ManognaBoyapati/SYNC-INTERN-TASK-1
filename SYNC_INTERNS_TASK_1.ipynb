{
  "nbformat": 4,
  "nbformat_minor": 0,
  "metadata": {
    "colab": {
      "provenance": []
    },
    "kernelspec": {
      "name": "python3",
      "display_name": "Python 3"
    },
    "language_info": {
      "name": "python"
    }
  },
  "cells": [
    {
      "cell_type": "markdown",
      "source": [
        "# **SYNC INTERN TASK 1**\n",
        "\n",
        "**Create a chatbot**"
      ],
      "metadata": {
        "id": "8fruXHeKym_b"
      }
    },
    {
      "cell_type": "code",
      "execution_count": 2,
      "metadata": {
        "id": "DjEeJPJoYj2F",
        "colab": {
          "base_uri": "https://localhost:8080/"
        },
        "outputId": "a861e944-2cec-45c0-c0b7-6986daf71395"
      },
      "outputs": [
        {
          "output_type": "stream",
          "name": "stdout",
          "text": [
            ">hey\n",
            "Hello!\n",
            ">my name is chinnu\n",
            "Hi chinnu, how can I help you?\n",
            ">what is your name\n",
            "My name is Chatbot.\n",
            ">chatbot how are you\n",
            "I am doing well, thank you. How can I assist you?\n",
            ">bye\n",
            "Have a nice day.\n"
          ]
        }
      ],
      "source": [
        "import nltk\n",
        "from nltk.chat.util import Chat, reflections\n",
        "\n",
        "pairs = [\n",
        "    ['(hi|hello|hey)', ['Hello!', 'Hi there!']],\n",
        "    ['my name is (.*)', ['Hi %1, how can I help you?']],\n",
        "    ['what is your name?', ['My name is Chatbot.']],\n",
        "    ['Chatbot how are you?', ['I am doing well, thank you. How can I assist you?']],\n",
        "    ['are you a robot?', ['no, i am a type of bot.']],\n",
        "    ['(.*) your age?', ['I do not know my age!']],\n",
        "    ['(.*) help (.*)', ['Sure, what do you need help with?']],\n",
        "    ['(.*) created you?', ['I was created by OpenAI.']],\n",
        "    ['In which year you are created?', ['I was created in the year 1966.']],\n",
        "    ['who coined your name as chatbot?', ['The term chatterbot was coined by Michael Mauldin.']],\n",
        "    ['(.*) works based on?', ['I will work based on NLP and machine learning.']],\n",
        "    ['bye', ['bye!', 'Have a nice day.']],\n",
        "]\n",
        "\n",
        "chatbot = Chat(pairs, reflections)\n",
        "\n",
        "def converse(self, quit=\"quit\"):\n",
        "    user_input = \"\"\n",
        "    while user_input != quit:\n",
        "        user_input = quit\n",
        "        try:\n",
        "            user_input = input(\"You: \")\n",
        "        except EOFError:\n",
        "            print(user_input)\n",
        "        if user_input:\n",
        "            while user_input[-1] in \"!.\":\n",
        "                user_input = user_input[:-1]\n",
        "            print(self.respond(user_input))\n",
        "\n",
        "chatbot.converse(quit=\"bye\")"
      ]
    }
  ]
}